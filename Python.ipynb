{
 "cells": [
  {
   "cell_type": "markdown",
   "metadata": {},
   "source": [
    "# Это твоя личная, пополняемая инструкция Python ;)\n",
    "\n",
    "### Пользуйся ссылками в содержании, чтобы провалиться в нужную тему"
   ]
  },
  {
   "cell_type": "markdown",
   "metadata": {},
   "source": [
    "# Содержание"
   ]
  },
  {
   "cell_type": "markdown",
   "metadata": {},
   "source": [
    "#### [1. Стандартные структуры данных](#1.-Стандартные-структуры-данных)\n",
    "   * [Что умеют все типы данных](#Что-умеют-все-типы)\n",
    "       * Логика, сравнение (по значению и ID), печать\n",
    "   * [Численные типы данных](#Что-умеют-численные-типы)\n",
    "       * Арифметические операции, сравнение, приведение друг к другу, округление, работа в разных системах счисления\n",
    "   * [Итерируемые типы данных](#Что-умеют-итерируемые-типы)\n",
    "       * list, dict, set, string, tuple, в общем об итераторах\n",
    "       * [Упорядоченные типы данных](#Что-умеют-упорядоченные-типы)\n",
    "           * list, range, tuple, string\n",
    "           * последовательности, проверка на принадлежность, конкатенация, индексы, слайсы\n",
    "           * [Изменяемые упорядоченные типы данных](#Что-умеют-изменяемые-упорядоченные-типы)\n",
    "               * list\n",
    "               * добавление, удаление, изменение элемента; сортировка in-place, вложенность списков \n",
    "       * [Неупорядоченные итерируемые типы данных](#Неупорядоченные-итерируемые-типы)\n",
    "           * dict, set\n",
    "           * операции с множествами\n",
    "\n",
    "#### [2. List Comprehension и другие простые трюки со стандартными типами данных](#2.-List-Comprehension-и-другие-трюки)\n",
    "   * [Пересечение множеств](#Пересечение-множеств)\n",
    "   * [Создание словаря \"Слово - количество упоминаний в тексте\"](#Текст)\n",
    "\n",
    "#### [3. Функции. Передача аргументов в функцию](#3.-Функции.-Передача-аргументов-в-функцию)\n",
    "#### [4. Lambda-функции. Map, filter, reduce, sorted](#4.-Lambda-функции.-Map,-filter,-reduce,-sorted)\n",
    "   * [Функции одной переменной](#Функции-одной-переменной)\n",
    "       * [List comprehension](#List-comprehension)\n",
    "       * [Функция map](#Функция-map)\n",
    "       * [Функция filter](#Функция-filter)\n",
    "       * [Ключ в sorted](#Ключ-в-sorted)\n",
    "   * [Функции двух переменных](#Функции-двух-переменных)\n",
    "       * [Функция reduce](#Функция-reduce)\n",
    "   * [Лямбды и фабрики функций](#Лямбды-и-фабрики-функций)\n",
    "\n",
    "#### [5. Работа со словарями](#5.-Работа-со-словарями)\n",
    "#### [6. Считывание и преобразование данных](#6.-Считывание-и-преобразование-данных)"
   ]
  },
  {
   "cell_type": "markdown",
   "metadata": {},
   "source": [
    "# 1. Стандартные структуры данных\n",
    "Это краткий справочник про стандартные структуры данных (data structures) языка Python.\n",
    "\n",
    "Слово «стандартные» означает, что они входят в стандартную библиотеку языка https://docs.python.org/3/library/, то есть ту, которая загружается по умолчанию каждый раз, когда мы используем язык. Стандартная библиотека поставляется нам, как говорят, «из коробки», то есть включается в базовую комплектацию языка. Не будем пока вникать в то, что такое вообще библиотека, а разберёмся с тем, что в ней лежит.\n",
    "\n",
    "Стандартные типы в Python иерархичны. Можно представлять себе эту иерархию как дерево. В корне дерева лежат те свойства и операции, которые присущи всем стандартным структурам. Далее происходит деление на две ветви: типы, которые поддерживают и которые не поддерживают итерирование. Типы, которые поддерживают итерирование, делятся на упорядоченные и неупорядоченные. Упорядоченные типы делятся на изменяемые и не изменяемые... И так далее.\n",
    "\n",
    "В данном разделе рассказано в общем про некоторые свойства типов из разных мест этой иерархии"
   ]
  },
  {
   "cell_type": "markdown",
   "metadata": {},
   "source": [
    "## Что умеют все типы\n",
    "\n",
    "#### Логика\n",
    "\n",
    "Про объект любого типа можно спросить, является он логически истинным или ложным. Использовать это можно в качестве проверки в выражениях if и while.\n",
    "\n",
    "По умолчанию, все объекты истинны, кроме специально выделенных констант. Для тех типов, для которых имеет смысл понятие их *размера*, объекты нулевого размера равны ложны, а все остальные – истинны.\n",
    "\n",
    "Так как про любой объект можно спросить, истиннен он или ложен, над объектами любого стандартного типа можно проводить логические операции: and, or и not.\n",
    "\n",
    "Также существуют логические константы True и False. Внутри они являются целыми числами 1 и 0.\n",
    "\n",
    "#### Сравнения\n",
    "\n",
    "Стандартные объекты одного типа можно сравнивать, пользуясь операторами == и !=, is и is not. Первые два проверяют на равенство по значению (при необходимости, приводя типы к одному), а вторые два – на равенство их id.\n",
    "\n",
    "#### Печать\n",
    "\n",
    "Любой стандартный тип можно распечатать функцией print или привести его к строке функцией str.\n"
   ]
  },
  {
   "cell_type": "code",
   "execution_count": 20,
   "metadata": {},
   "outputs": [
    {
     "name": "stdout",
     "output_type": "stream",
     "text": [
      "0.01 типа <class 'float'> истиннен\n",
      "['element', 42] типа <class 'list'> истиннен\n",
      "{'key': 'value'} типа <class 'dict'> истиннен\n",
      "[] типа <class 'list'> ложен\n",
      "{1, 2, 3} типа <class 'set'> истиннен\n",
      "stroka типа <class 'str'> истиннен\n",
      "True типа <class 'bool'> истиннен\n",
      "False типа <class 'bool'> ложен\n",
      "None типа <class 'NoneType'> ложен\n",
      "[0, 0] типа <class 'list'> истиннен\n",
      "(None, None, False) типа <class 'tuple'> истиннен\n"
     ]
    }
   ],
   "source": [
    "# Проверим некоторые экземпляры объектов на логическую истинность\n",
    "\n",
    "test_objects = [0.01,\n",
    "                [\"element\", 42],\n",
    "                {\"key\": \"value\"},\n",
    "                [],\n",
    "                {1, 2, 3},\n",
    "                \"stroka\",\n",
    "                True,\n",
    "                False,\n",
    "                None,\n",
    "                [0, 0],\n",
    "                (None, None, False)]\n",
    "\n",
    "for test_object in test_objects:\n",
    "    if(test_object): # Проверяем на логическую истинность\n",
    "        print(str(test_object) + u\" типа \" + str(type(test_object)) + \" истиннен\")\n",
    "    else:\n",
    "        print(str(test_object) + u\" типа \" + str(type(test_object)) + \" ложен\")"
   ]
  },
  {
   "cell_type": "code",
   "execution_count": 29,
   "metadata": {},
   "outputs": [
    {
     "name": "stdout",
     "output_type": "stream",
     "text": [
      "True\n",
      "False\n",
      "4456346688 4455943440\n",
      "False\n"
     ]
    }
   ],
   "source": [
    "# По поводу операторов – чем отличается is от ==?\n",
    "\n",
    "print(1 == True)\n",
    "print(1 is True)\n",
    "\n",
    "# Почему? Потому что хоть у них и равные значения, у них разные id.\n",
    "\n",
    "one = 1\n",
    "true = True\n",
    "one_id = id(one)\n",
    "true_id = id(true)\n",
    "print(one_id, true_id)\n",
    "print(one_id == true_id)"
   ]
  },
  {
   "cell_type": "markdown",
   "metadata": {},
   "source": [
    "## Что умеют численные типы\n",
    "\n",
    "Численные типы – это int, float, complex. Документация со всеми операциями: https://docs.python.org/3/library/stdtypes.html#numeric-types-int-float-complex\n",
    "\n",
    "Над ними предусмотрены:\n",
    "1. Арифметические операции (+, %, /, \\*, ...)\n",
    "2. Сравнения (не только == и !=, но и >, <=, ...)\n",
    "3. Приведение друг к другу.\n",
    "4. Округление, вычисление длины в разных системах счисления.\n",
    "\n",
    "Ещё можно приводить числа в разные системы счисления и выполнять над ними логические операции (будет дальше)."
   ]
  },
  {
   "cell_type": "code",
   "execution_count": 53,
   "metadata": {},
   "outputs": [
    {
     "name": "stdout",
     "output_type": "stream",
     "text": [
      "printing\n",
      "42 42.42 (42+0j)\n",
      "\n",
      "integer arithmetics\n",
      "4\n",
      "\n",
      "real arithmetics\n",
      "5.856400000000008\n",
      "\n",
      "complex arithmetics\n",
      "(2+1j) (2-1j)\n",
      "True\n",
      "\n",
      "one-type comparison\n",
      "True\n",
      "False\n",
      "\n",
      "real and integer comparison\n",
      "False\n",
      "True\n",
      "\n",
      "complex and integer equality\n",
      "True\n"
     ]
    }
   ],
   "source": [
    "# Примеры\n",
    "\n",
    "integer = 42\n",
    "real = 42.42\n",
    "complex_number = complex(42, 0)\n",
    "\n",
    "# Распечатаем\n",
    "print(\"printing\")\n",
    "print(integer, rational, complex_number)\n",
    "\n",
    "# Выполним над целым числом арифметическую операцию\n",
    "print(\"\\ninteger arithmetics\")\n",
    "modified_integer = (integer % 5) ** 2 \n",
    "print(modified_integer)\n",
    "\n",
    "# Что будет, если мы будем искать остаток от деления для дробного числа?\n",
    "print(\"\\nreal arithmetics\")\n",
    "modified_real = (real % 5) ** 2\n",
    "print(modified_real)\n",
    "\n",
    "# Особая операция для комплексного числа – вычисление сопряженного\n",
    "print(\"\\ncomplex arithmetics\")\n",
    "nontrivial_complex = complex(2, 1)\n",
    "conjugated_complex = nontrivial_complex.conjugate()\n",
    "print(nontrivial_complex, conjugated_complex)\n",
    "# для комплексоного числа с нулевой комплексной частью оно совпадает со своим сопряженным:\n",
    "print(complex_number == complex_number.conjugate())\n",
    "\n",
    "\n",
    "\n",
    "# Сравним целое и целое числа, рациональное и рациональное\n",
    "print(\"\\none-type comparison\")\n",
    "print(integer >= modified_integer)\n",
    "print(real < modified_real)\n",
    "\n",
    "# Если мы попытаемся сравнить целое и рациональное числа между собой, целое приведётся к рациональному, а потом выполнится сравнение\n",
    "print(\"\\nreal and integer comparison\")\n",
    "print(integer == real)\n",
    "print(integer < real)\n",
    "\n",
    "# Сравнение целого и комплексного на равенство\n",
    "print(\"\\ncomplex and integer equality\")\n",
    "print(integer == complex_number)"
   ]
  },
  {
   "cell_type": "code",
   "execution_count": 51,
   "metadata": {},
   "outputs": [
    {
     "ename": "TypeError",
     "evalue": "'>=' not supported between instances of 'int' and 'complex'",
     "output_type": "error",
     "traceback": [
      "\u001b[0;31m---------------------------------------------------------------------------\u001b[0m",
      "\u001b[0;31mTypeError\u001b[0m                                 Traceback (most recent call last)",
      "\u001b[0;32m<ipython-input-51-be42e3d66ffb>\u001b[0m in \u001b[0;36m<module>\u001b[0;34m()\u001b[0m\n\u001b[1;32m      1\u001b[0m \u001b[0;31m# Но сравнивать комплексные числа операторами \"больше\" и \"меньше\" нельзя\u001b[0m\u001b[0;34m\u001b[0m\u001b[0;34m\u001b[0m\u001b[0m\n\u001b[0;32m----> 2\u001b[0;31m \u001b[0mprint\u001b[0m\u001b[0;34m(\u001b[0m\u001b[0minteger\u001b[0m \u001b[0;34m>=\u001b[0m \u001b[0mcomplex_number\u001b[0m\u001b[0;34m)\u001b[0m \u001b[0;31m# Здесь будет сообщение об ошибке. Что оно значит?\u001b[0m\u001b[0;34m\u001b[0m\u001b[0m\n\u001b[0m",
      "\u001b[0;31mTypeError\u001b[0m: '>=' not supported between instances of 'int' and 'complex'"
     ]
    }
   ],
   "source": [
    "# Но сравнивать комплексные числа операторами \"больше\" и \"меньше\" нельзя\n",
    "print(integer >= complex_number) # Здесь будет сообщение об ошибке. "
   ]
  },
  {
   "cell_type": "code",
   "execution_count": 52,
   "metadata": {},
   "outputs": [
    {
     "ename": "TypeError",
     "evalue": "'>=' not supported between instances of 'complex' and 'complex'",
     "output_type": "error",
     "traceback": [
      "\u001b[0;31m---------------------------------------------------------------------------\u001b[0m",
      "\u001b[0;31mTypeError\u001b[0m                                 Traceback (most recent call last)",
      "\u001b[0;32m<ipython-input-52-6518e7363d1e>\u001b[0m in \u001b[0;36m<module>\u001b[0;34m()\u001b[0m\n\u001b[1;32m      1\u001b[0m \u001b[0;31m# Попробуем тогда привести целое число к комплексному и сравнить его с complex_number\u001b[0m\u001b[0;34m\u001b[0m\u001b[0;34m\u001b[0m\u001b[0m\n\u001b[0;32m----> 2\u001b[0;31m \u001b[0mprint\u001b[0m\u001b[0;34m(\u001b[0m\u001b[0mcomplex\u001b[0m\u001b[0;34m(\u001b[0m\u001b[0minteger\u001b[0m\u001b[0;34m)\u001b[0m \u001b[0;34m>=\u001b[0m \u001b[0mcomplex_number\u001b[0m\u001b[0;34m)\u001b[0m \u001b[0;31m# Снова сообщение об ошибке! Почему?\u001b[0m\u001b[0;34m\u001b[0m\u001b[0m\n\u001b[0m",
      "\u001b[0;31mTypeError\u001b[0m: '>=' not supported between instances of 'complex' and 'complex'"
     ]
    }
   ],
   "source": [
    "# Попробуем тогда привести целое число к комплексному и сравнить его с complex_number\n",
    "print(complex(integer) >= complex_number) # Снова сообщение об ошибке! "
   ]
  },
  {
   "cell_type": "code",
   "execution_count": 55,
   "metadata": {},
   "outputs": [
    {
     "name": "stdout",
     "output_type": "stream",
     "text": [
      "(1, 2)\n",
      "(2985042128016507, 70368744177664)\n"
     ]
    }
   ],
   "source": [
    "# Для рациональных действительных чисел\n",
    "# (то есть представимых в виде несокращаемой дроби с целым числителем и натуральным знаменателем)\n",
    "# можно вывести числа, которые при делении дают это рациональное\n",
    "\n",
    "print(0.5.as_integer_ratio())\n",
    "print(real.as_integer_ratio())\n"
   ]
  },
  {
   "cell_type": "markdown",
   "metadata": {},
   "source": [
    "## Что умеют итерируемые типы\n",
    "\n",
    "Итерируемые типы – это тип структур данных, для которых определены специальные объекты – итераторы. Сюда входят типы list, dict, set, string, tuple.\n",
    "\n",
    "Выражаясь просто, итератор – это такой объект, который умеет перемещаться по структуре данных последовательно из одного места в другое. Сам по себе итератор умеет выполнять только одно специфическое действие: переходить к следующему элементу. А также, как и любой другой объект, его можно сравнивать с другими итераторами.\n",
    "\n",
    "Для любого объекта итерируемого типа мы можем запросить его итератор явным образом (см. ниже).\n",
    "Но мы обычно используем итерируемость неявно, когда, например, \"пробегаемся\" по списку, словарю, строке или генератору.\n",
    "Для итерируемых типов существуют те самые list comprehension, dict comprehension и т.п., про которые будет подробно рассказано внизу.\n",
    "\n",
    "Итерируемые типы бывают двух видов: упорядоченные и неупорядоченные."
   ]
  },
  {
   "cell_type": "code",
   "execution_count": 2,
   "metadata": {},
   "outputs": [
    {
     "name": "stdout",
     "output_type": "stream",
     "text": [
      "<list_iterator object at 0x107204ba8>\n",
      "one\n",
      "two\n",
      "three\n",
      "four\n"
     ]
    },
    {
     "ename": "StopIteration",
     "evalue": "",
     "output_type": "error",
     "traceback": [
      "\u001b[0;31m---------------------------------------------------------------------------\u001b[0m",
      "\u001b[0;31mStopIteration\u001b[0m                             Traceback (most recent call last)",
      "\u001b[0;32m<ipython-input-2-09690ff40354>\u001b[0m in \u001b[0;36m<module>\u001b[0;34m()\u001b[0m\n\u001b[1;32m     16\u001b[0m \u001b[0;31m# Если попробуем шагнуть ещё раз, не получится – список закончился.\u001b[0m\u001b[0;34m\u001b[0m\u001b[0;34m\u001b[0m\u001b[0m\n\u001b[1;32m     17\u001b[0m \u001b[0;31m# Получим ошибку StopIteration\u001b[0m\u001b[0;34m\u001b[0m\u001b[0;34m\u001b[0m\u001b[0m\n\u001b[0;32m---> 18\u001b[0;31m \u001b[0mprint\u001b[0m\u001b[0;34m(\u001b[0m\u001b[0mnext\u001b[0m\u001b[0;34m(\u001b[0m\u001b[0mwords_iterator\u001b[0m\u001b[0;34m)\u001b[0m\u001b[0;34m)\u001b[0m\u001b[0;34m\u001b[0m\u001b[0m\n\u001b[0m",
      "\u001b[0;31mStopIteration\u001b[0m: "
     ]
    }
   ],
   "source": [
    "# Явная итерация – например, для списка\n",
    "\n",
    "words = [\"one\", \"two\", \"three\", \"four\"]\n",
    "words_iterator = iter(words) # явно запросим итератор для этого списка слов\n",
    "\n",
    "print(words_iterator) # Итератор указывает на начало списка, до первого элемента\n",
    "\n",
    "# Шагнем к следующему элементу\n",
    "print(next(words_iterator)) # Перейдем к следующему элементу – первому\n",
    "\n",
    "# Проделаем это ещё трижды, пока список не закончится\n",
    "print(next(words_iterator))\n",
    "print(next(words_iterator))\n",
    "print(next(words_iterator))\n",
    "\n",
    "# Если попробуем шагнуть ещё раз, не получится – список закончился. \n",
    "# Получим ошибку StopIteration\n",
    "print(next(words_iterator))"
   ]
  },
  {
   "cell_type": "code",
   "execution_count": 81,
   "metadata": {},
   "outputs": [
    {
     "name": "stdout",
     "output_type": "stream",
     "text": [
      "one\n",
      "two\n",
      "three\n",
      "four\n"
     ]
    }
   ],
   "source": [
    "# Но вообще мы пользуемся итераторами иначе, а именно:\n",
    "\n",
    "for word in words: # Внутри цикла for в реальности используются итераторы\n",
    "    print(word)"
   ]
  },
  {
   "cell_type": "code",
   "execution_count": 95,
   "metadata": {},
   "outputs": [
    {
     "name": "stdout",
     "output_type": "stream",
     "text": [
      "0 one\n",
      "1 two\n",
      "2 three\n",
      "3 four\n"
     ]
    }
   ],
   "source": [
    "# Если мы хотим также знать индексы элементов, по которым мы итерируемся,\n",
    "# мы можем использовать функцию enumerate.\n",
    "# Она возвращает генератор пар вида (индекс, элемент)\n",
    "\n",
    "for index, word in enumerate(words):\n",
    "    print(index, word)"
   ]
  },
  {
   "cell_type": "code",
   "execution_count": 3,
   "metadata": {},
   "outputs": [
    {
     "name": "stdout",
     "output_type": "stream",
     "text": [
      "погода\n",
      "настроение\n",
      "город\n"
     ]
    }
   ],
   "source": [
    "# Для словарей мы можем итерироваться по всем ключам\n",
    "\n",
    "impression_dict = {\n",
    "    \"погода\": \"дождь и туман\",\n",
    "    \"настроение\" : \"сплин\",\n",
    "    \"город\" : \"Лондон\"\n",
    "}\n",
    "\n",
    "for key in impression_dict:\n",
    "    print(key)"
   ]
  },
  {
   "cell_type": "code",
   "execution_count": 4,
   "metadata": {},
   "outputs": [
    {
     "name": "stdout",
     "output_type": "stream",
     "text": [
      "погода  сегодня –  дождь и туман\n",
      "настроение  сегодня –  сплин\n",
      "город  сегодня –  Лондон\n"
     ]
    }
   ],
   "source": [
    "# А можем по паре (ключ, значение), используя метод items, которая возвращает генератор таких пар\n",
    "\n",
    "for key, value in impression_dict.items():\n",
    "    print(key, \" сегодня – \", value)"
   ]
  },
  {
   "cell_type": "code",
   "execution_count": 98,
   "metadata": {},
   "outputs": [
    {
     "ename": "TypeError",
     "evalue": "'int' object is not iterable",
     "output_type": "error",
     "traceback": [
      "\u001b[0;31m---------------------------------------------------------------------------\u001b[0m",
      "\u001b[0;31mTypeError\u001b[0m                                 Traceback (most recent call last)",
      "\u001b[0;32m<ipython-input-98-ac6372693b9f>\u001b[0m in \u001b[0;36m<module>\u001b[0;34m()\u001b[0m\n\u001b[1;32m      2\u001b[0m \u001b[0;31m# Будет ошибка: этот тип не итерируемый\u001b[0m\u001b[0;34m\u001b[0m\u001b[0;34m\u001b[0m\u001b[0m\n\u001b[1;32m      3\u001b[0m \u001b[0;34m\u001b[0m\u001b[0m\n\u001b[0;32m----> 4\u001b[0;31m \u001b[0;32mfor\u001b[0m \u001b[0mdigit\u001b[0m \u001b[0;32min\u001b[0m \u001b[0;36m12345\u001b[0m\u001b[0;34m:\u001b[0m\u001b[0;34m\u001b[0m\u001b[0m\n\u001b[0m\u001b[1;32m      5\u001b[0m     \u001b[0mprint\u001b[0m\u001b[0;34m(\u001b[0m\u001b[0mdigit\u001b[0m\u001b[0;34m)\u001b[0m\u001b[0;34m\u001b[0m\u001b[0m\n",
      "\u001b[0;31mTypeError\u001b[0m: 'int' object is not iterable"
     ]
    }
   ],
   "source": [
    "# Что будет, если мы попробуем поитерироваться по неитерируемым типам – числовым?\n",
    "# Будет ошибка: этот тип не итерируемый\n",
    "\n",
    "for digit in 12345:\n",
    "    print(digit)"
   ]
  },
  {
   "cell_type": "markdown",
   "metadata": {},
   "source": [
    "## Что умеют упорядоченные типы\n",
    "\n",
    "Упорядоченные (sequential) типы – это такие типы, которые состоят из упорядоченной последовательности элементов.\n",
    "У них есть начало и конец, они знают, сколько в них лежит элементов и какого они типа. Пробежаться по ним можно не только по итератору, но и по индексу, потому что они упорядочены и у каждого их элемента есть номер.\n",
    "\n",
    "Сюда входят: list, range, tuple, string. Ещё входит специальный тип для двоичных данных, но нам он не понадобится.\n",
    "Упорядоченные типы бывают изменяемые и неизменяемые (уже обсуждали, что это значит).\n",
    "\n",
    "Полная документация: https://docs.python.org/3/library/stdtypes.html#sequence-types-list-tuple-range"
   ]
  },
  {
   "cell_type": "code",
   "execution_count": 105,
   "metadata": {},
   "outputs": [
    {
     "name": "stdout",
     "output_type": "stream",
     "text": [
      "старый солдат пьёт чай\n",
      "старый солдат пьёт пьёт пьёт пьёт пьёт чай\n"
     ]
    }
   ],
   "source": [
    "# Пример последовательности – строка\n",
    "\n",
    "subjectStr = u\"старый солдат \"\n",
    "verbStr = u\"пьёт \"\n",
    "objectStr = u\"чай\"\n",
    "\n",
    "# Конкатенация (сложение) последовательностей\n",
    "text = subjectStr + verbStr + objectStr\n",
    "print(text)\n",
    "\n",
    "# Умножение последовательности на целое число\n",
    "verbStr = verbStr * 5\n",
    "text = subjectStr + verbStr + objectStr\n",
    "print(text)"
   ]
  },
  {
   "cell_type": "code",
   "execution_count": 106,
   "metadata": {},
   "outputs": [
    {
     "name": "stdout",
     "output_type": "stream",
     "text": [
      "True\n",
      "False\n",
      "True\n",
      "False\n"
     ]
    }
   ],
   "source": [
    "# Проверка на принадлежность\n",
    "print(u\"а\" in text) # элемента\n",
    "print(u\"ю\" in text)\n",
    "print(u\"чай\" in text) # последовательности элементов\n",
    "print(u\"кофе\" in text) "
   ]
  },
  {
   "cell_type": "code",
   "execution_count": 114,
   "metadata": {},
   "outputs": [
    {
     "name": "stdout",
     "output_type": "stream",
     "text": [
      "ё\n",
      "пьёт пьёт пьёт пьёт пьёт\n",
      "5\n",
      "0\n",
      "16\n"
     ]
    },
    {
     "ename": "ValueError",
     "evalue": "substring not found",
     "output_type": "error",
     "traceback": [
      "\u001b[0;31m---------------------------------------------------------------------------\u001b[0m",
      "\u001b[0;31mValueError\u001b[0m                                Traceback (most recent call last)",
      "\u001b[0;32m<ipython-input-114-9e6adc248cdf>\u001b[0m in \u001b[0;36m<module>\u001b[0;34m()\u001b[0m\n\u001b[1;32m     13\u001b[0m \u001b[0;31m# Поиск индекса первого вхождения элемента или подпоследовательности в последовательность\u001b[0m\u001b[0;34m\u001b[0m\u001b[0;34m\u001b[0m\u001b[0m\n\u001b[1;32m     14\u001b[0m \u001b[0mprint\u001b[0m\u001b[0;34m(\u001b[0m\u001b[0mtext\u001b[0m\u001b[0;34m.\u001b[0m\u001b[0mindex\u001b[0m\u001b[0;34m(\u001b[0m\u001b[0;34mu\"ё\"\u001b[0m\u001b[0;34m)\u001b[0m\u001b[0;34m)\u001b[0m\u001b[0;34m\u001b[0m\u001b[0m\n\u001b[0;32m---> 15\u001b[0;31m \u001b[0mprint\u001b[0m\u001b[0;34m(\u001b[0m\u001b[0mtext\u001b[0m\u001b[0;34m.\u001b[0m\u001b[0mindex\u001b[0m\u001b[0;34m(\u001b[0m\u001b[0;34mu\"ю\"\u001b[0m\u001b[0;34m)\u001b[0m\u001b[0;34m)\u001b[0m \u001b[0;31m# выдаст ошибку, прочитай её\u001b[0m\u001b[0;34m\u001b[0m\u001b[0m\n\u001b[0m",
      "\u001b[0;31mValueError\u001b[0m: substring not found"
     ]
    }
   ],
   "source": [
    "# Взятие элемента по индексу\n",
    "\n",
    "print(text[16])\n",
    "\n",
    "# Слайсы\n",
    "\n",
    "print(text[14:-4])\n",
    "\n",
    "# Количество вхождений элемента или подпоследовательности в последовательность\n",
    "print(text.count(u\"пьёт\"))\n",
    "print(text.count(u\"ест\"))\n",
    "\n",
    "# Поиск индекса первого вхождения элемента или подпоследовательности в последовательность\n",
    "print(text.index(u\"ё\"))\n",
    "print(text.index(u\"ю\")) # выдаст ошибку, прочитай её"
   ]
  },
  {
   "cell_type": "code",
   "execution_count": 117,
   "metadata": {},
   "outputs": [
    {
     "name": "stdout",
     "output_type": "stream",
     "text": [
      "42\n",
      "\" \"\n",
      "\"ё\"\n"
     ]
    }
   ],
   "source": [
    "# Поиск длины, минимума и максимума последовательности\n",
    "\n",
    "print(len(text))\n",
    "\n",
    "# Для строк минимумы и максимумы вычисляются по кодировкам символов\n",
    "print(\"\\\"\" + min(text) + \"\\\"\")\n",
    "print(\"\\\"\" + max(text) + \"\\\"\")"
   ]
  },
  {
   "cell_type": "markdown",
   "metadata": {},
   "source": [
    "## Что умеют изменяемые упорядоченные типы\n",
    "\n",
    "Изменяемый последовательный тип – это list.\n",
    "Помимо всего того, что можно делать со строками и кортежами, в list можно влезть по индексу, элементу или итератору и что-нибудь там изменить."
   ]
  },
  {
   "cell_type": "code",
   "execution_count": 148,
   "metadata": {},
   "outputs": [
    {
     "name": "stdout",
     "output_type": "stream",
     "text": [
      "['one', 'two', 'three', 'four', 'five', 'six']\n",
      "six\n",
      "['one', 'two', 'three', 'four', 'five']\n",
      "['cat', 'two', 'three', 'four', 'five']\n",
      "['cat', 'dog', 'giraffe', 'badger']\n",
      "['cat', 'giraffe', 'badger']\n",
      "['giraffe', 'badger']\n",
      "['badger', 'giraffe']\n",
      "[]\n"
     ]
    },
    {
     "data": {
      "text/plain": [
       "True"
      ]
     },
     "execution_count": 148,
     "metadata": {},
     "output_type": "execute_result"
    }
   ],
   "source": [
    "# Примеры. Проследим, что id объекта не изменится.\n",
    "\n",
    "words = [\"one\", \"two\", \"three\", \"four\", \"five\"]\n",
    "words_id = id(words)\n",
    "\n",
    "# Добавим элемент в конец\n",
    "words.append(\"six\")\n",
    "print(words)\n",
    "\n",
    "# Удалим элемент в конце\n",
    "lastWord = words.pop()\n",
    "print(lastWord)\n",
    "print(words)\n",
    "\n",
    "# Заменим элемент\n",
    "words[0] = \"cat\"\n",
    "print(words)\n",
    "# И целую подпоследовательность\n",
    "words[1:5] = [\"dog\", \"giraffe\", \"badger\"]\n",
    "print(words)\n",
    "\n",
    "# Удалим элемент по индексу\n",
    "del words[1]\n",
    "print(words)\n",
    "\n",
    "# Или по элементу\n",
    "words.remove(\"cat\")\n",
    "print(words)\n",
    "\n",
    "# Отсортируем список in-place (то есть не создавая дополнительных объектов)\n",
    "words.sort()\n",
    "print(words)\n",
    "\n",
    "# Очистим список\n",
    "words.clear()\n",
    "print(words)\n",
    "\n",
    "# Что там с id?\n",
    "words_id == id(words)"
   ]
  },
  {
   "cell_type": "code",
   "execution_count": 152,
   "metadata": {},
   "outputs": [
    {
     "name": "stdout",
     "output_type": "stream",
     "text": [
      "[[0, 1, 2], [3, 4, 5]]\n",
      "[0, 1, 2]\n",
      "0\n"
     ]
    }
   ],
   "source": [
    "# Списки (как и словари и кортежи) поддерживают вложенность\n",
    "\n",
    "nested_list = [\n",
    "    [\n",
    "        [0, 1, 2],\n",
    "        [3, 4, 5]\n",
    "    ],\n",
    "    [\n",
    "        [6, 7, 8],\n",
    "        [9, 10, 11]\n",
    "    ]\n",
    "]\n",
    "\n",
    "# Обращаться к ним не страшно:\n",
    "\n",
    "print(nested_list[0])\n",
    "print(nested_list[0][0])\n",
    "print(nested_list[0][0][0])"
   ]
  },
  {
   "cell_type": "code",
   "execution_count": 157,
   "metadata": {},
   "outputs": [
    {
     "name": "stdout",
     "output_type": "stream",
     "text": [
      "[9, 10, 11]\n",
      "9\n",
      "[11, 10, 9]\n"
     ]
    }
   ],
   "source": [
    "# С элементами вложенного списка мы работаем, как обычно:\n",
    "\n",
    "print(nested_list[1][1])\n",
    "print(min(nested_list[1][1]))\n",
    "nested_list[1][1].reverse()\n",
    "print(nested_list[1][1])"
   ]
  },
  {
   "cell_type": "markdown",
   "metadata": {},
   "source": [
    "## Неупорядоченные итерируемые типы\n",
    "\n",
    "Здесь нас интересуют dict и set, словарь и множество. Они не являются последовательными, потому что на элементах словаря и множества нет явного порядка, нам не важно, кто из них первый, кто последний.\n",
    "\n",
    "Словарь, dict, в некотором смысле проиндексирован своими ключами. В множестве индексы отсутствуют совсем.\n",
    "\n",
    "Множества – это множества в математическом смысле. Над ними можно проводить все теоретико-множественные операции.\n",
    "Словарь лучше всего представлять себе как реальный словарь, в котором есть слова и словарные статьи."
   ]
  },
  {
   "cell_type": "code",
   "execution_count": 170,
   "metadata": {},
   "outputs": [
    {
     "name": "stdout",
     "output_type": "stream",
     "text": [
      "{'cat', 'snake', 'bird', 'dog'}\n",
      "{'cat', 'snake', 'bird', 'dog'}\n",
      "False\n"
     ]
    }
   ],
   "source": [
    "# Операции над set\n",
    "\n",
    "zoo = {\"cat\", \"dog\", \"bird\"}\n",
    "farm = {\"dog\", \"cow\"}\n",
    "house = {\"cat\"}\n",
    "\n",
    "# Добавить новый элемент\n",
    "zoo.add(\"snake\") # add, а не append, потому что не в конец, а вообще\n",
    "print(zoo)\n",
    "\n",
    "# Добавить элемент, который уже был – множество не изменится\n",
    "zoo.add(\"cat\") \n",
    "print(zoo)\n",
    "\n",
    "# Проверка на принадлежность\n",
    "print(\"elephant\" in zoo)"
   ]
  },
  {
   "cell_type": "code",
   "execution_count": 165,
   "metadata": {},
   "outputs": [
    {
     "name": "stdout",
     "output_type": "stream",
     "text": [
      "True\n",
      "False\n"
     ]
    }
   ],
   "source": [
    "# Сравнить множества\n",
    "print(zoo > house) # верно ли, что house содержится в zoo?\n",
    "print(zoo > farm)"
   ]
  },
  {
   "cell_type": "code",
   "execution_count": 169,
   "metadata": {},
   "outputs": [
    {
     "name": "stdout",
     "output_type": "stream",
     "text": [
      "{'dog'}\n",
      "{'cat', 'snake', 'bird'}\n",
      "{'snake', 'cow', 'cat', 'bird', 'dog'}\n",
      "{'bird', 'snake', 'cow', 'dog'}\n"
     ]
    }
   ],
   "source": [
    "# Найти пересечение множеств\n",
    "print(zoo.intersection(farm))\n",
    "\n",
    "# Найти дополнение к множеству в другом множестве\n",
    "print(zoo.difference(farm))\n",
    "\n",
    "# Объединить множества\n",
    "animals = zoo.union(farm)\n",
    "print(animals)\n",
    "\n",
    "# Вычесть одно множество из другого\n",
    "print(animals - house)"
   ]
  },
  {
   "cell_type": "markdown",
   "metadata": {},
   "source": [
    "# 2. List Comprehension и другие трюки"
   ]
  },
  {
   "cell_type": "code",
   "execution_count": 1,
   "metadata": {},
   "outputs": [
    {
     "name": "stdout",
     "output_type": "stream",
     "text": [
      "[0, 1, 4, 9, 16, 25, 36, 49, 64, 81, 100]\n"
     ]
    }
   ],
   "source": [
    "squares = [number ** 2 for number in range(11)]\n",
    "print(squares)"
   ]
  },
  {
   "cell_type": "markdown",
   "metadata": {},
   "source": [
    "Создать список длин слов из предложения `sentence`, но только не артиклей.\n",
    "\n",
    "Подсказка: посмотреть документацию для метода `split` для строк (strings)."
   ]
  },
  {
   "cell_type": "code",
   "execution_count": 6,
   "metadata": {},
   "outputs": [
    {
     "name": "stdout",
     "output_type": "stream",
     "text": [
      "[5, 5, 3, 5, 4, 4, 3]\n"
     ]
    }
   ],
   "source": [
    "sentence = \"a quick brown fox jumps over the lazy dog\"\n",
    "# Решение:\n",
    "articles = (\"a\", \"the\")\n",
    "words = sentence.split()\n",
    "length = []\n",
    "[length.append(len(element)) for element in words if element not in articles]\n",
    "print(lens)\n",
    "#for element in words:\n",
    "#    if element not in articles:\n",
    "#        lens.append(len(element))\n",
    "#        print(element, len(element)) # для явного просмотра :)\n",
    "#print(lens)"
   ]
  },
  {
   "cell_type": "markdown",
   "metadata": {},
   "source": [
    "Создать и вывести список `natural_numbers`, который будет содержать только положительные числа из `real_numbers`, причём округлить эти числа до целых вверх.\n",
    "\n",
    "Подсказка: посмотреть документацию по функциям `floor` и `ceil` из библиотеки `math`. Чем они отличаются от функции `int` в стандартной библиотеке?"
   ]
  },
  {
   "cell_type": "code",
   "execution_count": 8,
   "metadata": {},
   "outputs": [
    {
     "name": "stdout",
     "output_type": "stream",
     "text": [
      "[35, 45, 69, 45, 13]\n"
     ]
    }
   ],
   "source": [
    "import math # импортируем библиотеку math, в которой есть функции для округления чисел\n",
    "real_numbers = [34.6, -203.4, 44.9, 68.3, -12.2, 44.6, 12.7]\n",
    "\n",
    "# Решение:\n",
    "natural_numbers = [math.ceil(number) for number in real_numbers if number > 0]\n",
    "print(natural_numbers)"
   ]
  },
  {
   "cell_type": "markdown",
   "metadata": {},
   "source": [
    "Создать и вывести список всех целых чисел от 1 до 1000, которые делятся на 7. "
   ]
  },
  {
   "cell_type": "code",
   "execution_count": 7,
   "metadata": {},
   "outputs": [
    {
     "name": "stdout",
     "output_type": "stream",
     "text": [
      "[7, 14]\n"
     ]
    }
   ],
   "source": [
    "divided_by_seven = [number for number in range(1,15) if number % 7 == 0]\n",
    "print(divided_by_seven)"
   ]
  },
  {
   "cell_type": "markdown",
   "metadata": {},
   "source": [
    "Создать и вывести список всех целых чисел от 1 до 1000, которые содержат в своей записи тройку.\n",
    "\n",
    "Подсказка: чтобы смотреть на отдельные цифры какого-то числа, к нему нужно относиться, как к строке, или – ещё удобней – как к списку символов этой строки."
   ]
  },
  {
   "cell_type": "code",
   "execution_count": 6,
   "metadata": {},
   "outputs": [
    {
     "name": "stdout",
     "output_type": "stream",
     "text": [
      "3 13 "
     ]
    }
   ],
   "source": [
    "for number in range(1,14):\n",
    "    if \"3\" in set(str(number)):\n",
    "        print(number, end = \" \")"
   ]
  },
  {
   "cell_type": "markdown",
   "metadata": {},
   "source": [
    "Создать список списков, в котором элемент с номером `i` будет списком чисел от 1 до n, которые делятся на `i`.\n",
    "\n",
    "Пусть `i` от 2 до 100."
   ]
  },
  {
   "cell_type": "code",
   "execution_count": 9,
   "metadata": {},
   "outputs": [
    {
     "data": {
      "text/plain": [
       "[[2, 4, 6, 8], [3, 6, 9], [4, 8], [5], [6], [7], [8], [9]]"
      ]
     },
     "execution_count": 9,
     "metadata": {},
     "output_type": "execute_result"
    }
   ],
   "source": [
    "# Финальный список будет выглядеть как-то так:\n",
    "# divisible_by_index = [[2, 4, 6, 8, ..., 100], [3, 6, 9, ..., 99], ..., [100]]\n",
    "[[number for number in range(2,10) if (number % divisor == 0)] for divisor in range(2,10)]"
   ]
  },
  {
   "cell_type": "markdown",
   "metadata": {},
   "source": [
    "*List comprehension* можно использовать также и для словарей (`dict`). Выполнить предыдущее со словарём вместо списка списков так, чтобы в получившемся словаре лежали пары вида `i: [числа от 1 до 100, которые делятся на i]`. Снова `i` от 2 до 100."
   ]
  },
  {
   "cell_type": "code",
   "execution_count": null,
   "metadata": {},
   "outputs": [],
   "source": [
    "# Формат ответа\n",
    "# divisible_by_index = {2 : [2, 4, ..., 100], 3 : [3, 6, ..., 99], ..., 100 : [100]}"
   ]
  },
  {
   "cell_type": "markdown",
   "metadata": {},
   "source": [
    "Создать список `[-10, -9, -8, -7, -6, -5, -4, -3, -2, -1, 0]`."
   ]
  },
  {
   "cell_type": "code",
   "execution_count": 32,
   "metadata": {},
   "outputs": [
    {
     "data": {
      "text/plain": [
       "[-10, -9, -8, -7, -6, -5, -4, -3, -2, -1, 0]"
      ]
     },
     "execution_count": 32,
     "metadata": {},
     "output_type": "execute_result"
    }
   ],
   "source": [
    "[-(10 - i) for i in range(11)]"
   ]
  },
  {
   "cell_type": "markdown",
   "metadata": {},
   "source": [
    "### Пересечение множеств\n",
    "\n",
    "Для двух списков вывести те элементы, которые содержатся в обоих.\n",
    "Выполнить задание тремя способами:\n",
    "\n",
    "1) c помощью list comprehension;\n",
    "\n",
    "2) с помощью set."
   ]
  },
  {
   "cell_type": "code",
   "execution_count": 10,
   "metadata": {},
   "outputs": [
    {
     "name": "stdout",
     "output_type": "stream",
     "text": [
      "1\n",
      "1\n",
      "2\n",
      "3\n",
      "5\n",
      "8\n",
      "13\n"
     ]
    },
    {
     "data": {
      "text/plain": [
       "{1, 2, 3, 5, 8, 13}"
      ]
     },
     "execution_count": 10,
     "metadata": {},
     "output_type": "execute_result"
    }
   ],
   "source": [
    "first = [1, 1, 2, 3, 5, 8, 13, 21, 34, 55, 89]\n",
    "second = [1, 2, 3, 4, 5, 6, 7, 8, 9, 10, 11, 12, 13]\n",
    "\n",
    "#1)\n",
    "[print(first[i]) for i in range(len(first)) if first[i] in second]\n",
    "\n",
    "#2)\n",
    "set(first).intersection(set(second))"
   ]
  },
  {
   "cell_type": "markdown",
   "metadata": {},
   "source": [
    "### Текст\n",
    "\n",
    "Для текста `text` (сгенерирован случайно) посчитать, сколько раз каждое слово в него входит.\n",
    "\n",
    "Считаем, что словами не считаются пробелы и знаки препинания, а также что «слово», «Слово» и «СЛОВО» -- одинаковые элементы.\n",
    "\n",
    "Обратите внимание на методы и функции: `replace`, `lower`, `split`."
   ]
  },
  {
   "cell_type": "code",
   "execution_count": 57,
   "metadata": {},
   "outputs": [],
   "source": [
    "text = \"Do in laughter securing smallest sensible no mr hastened. As perhaps proceed in in brandon of limited unknown greatly. Distrusts fulfilled happiness unwilling as explained of difficult. No landlord of peculiar ladyship attended if contempt ecstatic. Loud wish made on is am as hard. Court so avoid in plate hence. Of received mr breeding concerns peculiar securing landlord. Spot to many it four bred soon well to. Or am promotion in no departure abilities. Whatever landlord yourself at by pleasure of children be. \""
   ]
  },
  {
   "cell_type": "code",
   "execution_count": 65,
   "metadata": {},
   "outputs": [
    {
     "name": "stdout",
     "output_type": "stream",
     "text": [
      "{'do': 1, 'in': 5, 'laughter': 1, 'securing': 2, 'smallest': 1, 'sensible': 1, 'no': 3, 'mr': 2, 'hastened': 1, 'as': 3, 'perhaps': 1, 'proceed': 1, 'brandon': 1, 'of': 5, 'limited': 1, 'unknown': 1, 'greatly': 1, 'distrusts': 1, 'fulfilled': 1, 'happiness': 1, 'unwilling': 1, 'explained': 1, 'difficult': 1, 'landlord': 3, 'peculiar': 2, 'ladyship': 1, 'attended': 1, 'if': 1, 'contempt': 1, 'ecstatic': 1, 'loud': 1, 'wish': 1, 'made': 1, 'on': 1, 'is': 1, 'am': 2, 'hard': 1, 'court': 1, 'so': 1, 'avoid': 1, 'plate': 1, 'hence': 1, 'received': 1, 'breeding': 1, 'concerns': 1, 'spot': 1, 'to': 2, 'many': 1, 'it': 1, 'four': 1, 'bred': 1, 'soon': 1, 'well': 1, 'or': 1, 'promotion': 1, 'departure': 1, 'abilities': 1, 'whatever': 1, 'yourself': 1, 'at': 1, 'by': 1, 'pleasure': 1, 'children': 1, 'be': 1}\n"
     ]
    }
   ],
   "source": [
    "frequency_dictionary = {}\n",
    "text = text.replace('.', '')\n",
    "words = [word.lower() for word in text.split()]\n",
    "for word in words:\n",
    "    frequency_dictionary[word] = frequency_dictionary.get(word, 0) + 1\n",
    "print(frequency_dictionary)"
   ]
  },
  {
   "cell_type": "markdown",
   "metadata": {},
   "source": [
    "### И ещё раз про списки.\n",
    "\n",
    "Написать функцию, которая сортирует (вручную, без использования стандартных функций) список `numbers`. Сортировка должна происходить *in place*, то есть дополнительный список заводить нельзя.\n",
    "\n",
    "Протестировать функцию следующим образом: создать несколько примеров списков, постаравшись включить как случайный общий, также и граничные случаи, и проверить, что самописная функция выдаёт тот же ответ, что и стандартная функция `sorted()`."
   ]
  },
  {
   "cell_type": "code",
   "execution_count": 5,
   "metadata": {},
   "outputs": [],
   "source": [
    "numbers_1 = [3, 1, 0, -5, 12, -1, 5]\n",
    "\n",
    "def my_sort(numbers):\n",
    "    for element in range(1,len(numbers)):\n",
    "        for k in range(len(numbers) - element):\n",
    "            if numbers[k] > numbers[k+1]:\n",
    "                numbers[k], numbers[k+1] = numbers[k+1], numbers[k]\n",
    "    return(numbers)"
   ]
  },
  {
   "cell_type": "code",
   "execution_count": 8,
   "metadata": {},
   "outputs": [],
   "source": [
    "result = my_sort(numbers_1)\n",
    "check = sorted(numbers_1)"
   ]
  },
  {
   "cell_type": "code",
   "execution_count": 9,
   "metadata": {},
   "outputs": [
    {
     "name": "stdout",
     "output_type": "stream",
     "text": [
      "[-5, -1, 0, 1, 3, 5, 12]\n",
      "[-5, -1, 0, 1, 3, 5, 12]\n"
     ]
    }
   ],
   "source": [
    "print(result)\n",
    "print(check)"
   ]
  },
  {
   "cell_type": "markdown",
   "metadata": {},
   "source": [
    "# 3. Функции. Передача аргументов в функцию\n",
    "Делается ли это `by reference` или `by value`"
   ]
  },
  {
   "cell_type": "code",
   "execution_count": 1,
   "metadata": {},
   "outputs": [],
   "source": [
    "# Вспомогательная функция\n",
    "import inspect\n",
    "\n",
    "def this_function_name():\n",
    "    return(inspect.stack()[1].function) # 1, а не 0, т.к. нужен caller"
   ]
  },
  {
   "cell_type": "code",
   "execution_count": 7,
   "metadata": {},
   "outputs": [
    {
     "data": {
      "text/plain": [
       "'any_function'"
      ]
     },
     "execution_count": 7,
     "metadata": {},
     "output_type": "execute_result"
    }
   ],
   "source": [
    "def any_function():\n",
    "    return inspect.stack()[0].function\n",
    "    \n",
    "any_function()"
   ]
  },
  {
   "cell_type": "code",
   "execution_count": 2,
   "metadata": {},
   "outputs": [
    {
     "name": "stdout",
     "output_type": "stream",
     "text": [
      "[1, 2, 42, 0]\n",
      "[1, 2, 42]\n"
     ]
    }
   ],
   "source": [
    "# О стеках\n",
    "stack = [1, 2, 42]\n",
    "# push\n",
    "stack.append(0)\n",
    "print(stack)\n",
    "# pop\n",
    "last = stack.pop() # Пример функции, которая делает два дела\n",
    "print(stack)"
   ]
  },
  {
   "cell_type": "code",
   "execution_count": 3,
   "metadata": {},
   "outputs": [],
   "source": [
    "def change_integer(arg):\n",
    "    arg = 42\n",
    "    print('{}: argument is now set to {}'.format(this_function_name(), arg))"
   ]
  },
  {
   "cell_type": "code",
   "execution_count": 4,
   "metadata": {},
   "outputs": [
    {
     "name": "stdout",
     "output_type": "stream",
     "text": [
      "change_integer: argument is now set to 42\n",
      "10\n"
     ]
    }
   ],
   "source": [
    "x = 10\n",
    "change_integer(x)\n",
    "print(x)"
   ]
  },
  {
   "cell_type": "code",
   "execution_count": 5,
   "metadata": {},
   "outputs": [],
   "source": [
    "def change_list(arg):\n",
    "    arg = [1, 2, 3]\n",
    "    print('{}: argument is now set to {}'.format(this_function_name(), arg))"
   ]
  },
  {
   "cell_type": "code",
   "execution_count": 6,
   "metadata": {},
   "outputs": [
    {
     "name": "stdout",
     "output_type": "stream",
     "text": [
      "change_list: argument is now set to [1, 2, 3]\n",
      "[]\n"
     ]
    }
   ],
   "source": [
    "x = []\n",
    "change_list(x)\n",
    "print(x)"
   ]
  },
  {
   "cell_type": "code",
   "execution_count": 7,
   "metadata": {},
   "outputs": [],
   "source": [
    "def change_list_elements(arg):\n",
    "    arg.append(42)\n",
    "    print('{}: argument is now set to {}'.format(this_function_name(), arg))"
   ]
  },
  {
   "cell_type": "code",
   "execution_count": 8,
   "metadata": {},
   "outputs": [
    {
     "name": "stdout",
     "output_type": "stream",
     "text": [
      "change_list_elements: argument is now set to [42]\n",
      "[42]\n"
     ]
    }
   ],
   "source": [
    "x = []\n",
    "change_list_elements(x)\n",
    "print(x)"
   ]
  },
  {
   "cell_type": "code",
   "execution_count": 9,
   "metadata": {},
   "outputs": [],
   "source": [
    "# Как поменять что-то?\n",
    "# Как надо: вынести изменение из функции\n",
    "def get_new_value(arg):\n",
    "    return(arg + 1)"
   ]
  },
  {
   "cell_type": "code",
   "execution_count": 10,
   "metadata": {},
   "outputs": [
    {
     "name": "stdout",
     "output_type": "stream",
     "text": [
      "43\n"
     ]
    }
   ],
   "source": [
    "x = 42\n",
    "x = get_new_value(42)\n",
    "print(x)"
   ]
  },
  {
   "cell_type": "code",
   "execution_count": 16,
   "metadata": {},
   "outputs": [
    {
     "name": "stdout",
     "output_type": "stream",
     "text": [
      "<module>: argument is now set to 1\n",
      "f: argument is now set to 1\n"
     ]
    }
   ],
   "source": [
    "# Как НЕ НАДО: с помощью глобальных переменных\n",
    "# О них\n",
    "\n",
    "arg = 1 # <-- глобальная переменная\n",
    "print('{}: argument is now set to {}'.format(this_function_name(), arg)) \n",
    "\n",
    "def f():\n",
    "    # Единственная известная нам arg -- глобальная, ее можно прочитать\n",
    "    print('{}: argument is now set to {}'.format(this_function_name(), arg))\n",
    "    \n",
    "f()"
   ]
  },
  {
   "cell_type": "code",
   "execution_count": 17,
   "metadata": {},
   "outputs": [
    {
     "ename": "UnboundLocalError",
     "evalue": "local variable 'arg' referenced before assignment",
     "output_type": "error",
     "traceback": [
      "\u001b[0;31m---------------------------------------------------------------------------\u001b[0m",
      "\u001b[0;31mUnboundLocalError\u001b[0m                         Traceback (most recent call last)",
      "\u001b[0;32m<ipython-input-17-93640d606b90>\u001b[0m in \u001b[0;36m<module>\u001b[0;34m()\u001b[0m\n\u001b[1;32m      4\u001b[0m     \u001b[0mprint\u001b[0m\u001b[0;34m(\u001b[0m\u001b[0;34m'{}: argument is now set to {}'\u001b[0m\u001b[0;34m.\u001b[0m\u001b[0mformat\u001b[0m\u001b[0;34m(\u001b[0m\u001b[0mthis_function_name\u001b[0m\u001b[0;34m(\u001b[0m\u001b[0;34m)\u001b[0m\u001b[0;34m,\u001b[0m \u001b[0marg\u001b[0m\u001b[0;34m)\u001b[0m\u001b[0;34m)\u001b[0m\u001b[0;34m\u001b[0m\u001b[0m\n\u001b[1;32m      5\u001b[0m \u001b[0;34m\u001b[0m\u001b[0m\n\u001b[0;32m----> 6\u001b[0;31m \u001b[0mf_faulty\u001b[0m\u001b[0;34m(\u001b[0m\u001b[0;34m)\u001b[0m\u001b[0;34m\u001b[0m\u001b[0m\n\u001b[0m",
      "\u001b[0;32m<ipython-input-17-93640d606b90>\u001b[0m in \u001b[0;36mf_faulty\u001b[0;34m()\u001b[0m\n\u001b[1;32m      1\u001b[0m \u001b[0;31m# Выдаёт ошибку\u001b[0m\u001b[0;34m\u001b[0m\u001b[0;34m\u001b[0m\u001b[0m\n\u001b[1;32m      2\u001b[0m \u001b[0;32mdef\u001b[0m \u001b[0mf_faulty\u001b[0m\u001b[0;34m(\u001b[0m\u001b[0;34m)\u001b[0m\u001b[0;34m:\u001b[0m\u001b[0;34m\u001b[0m\u001b[0m\n\u001b[0;32m----> 3\u001b[0;31m     \u001b[0marg\u001b[0m \u001b[0;34m=\u001b[0m \u001b[0marg\u001b[0m \u001b[0;34m+\u001b[0m \u001b[0;36m1\u001b[0m \u001b[0;31m# <-- правая часть (чтение) сработает, а assignment нет\u001b[0m\u001b[0;34m\u001b[0m\u001b[0m\n\u001b[0m\u001b[1;32m      4\u001b[0m     \u001b[0mprint\u001b[0m\u001b[0;34m(\u001b[0m\u001b[0;34m'{}: argument is now set to {}'\u001b[0m\u001b[0;34m.\u001b[0m\u001b[0mformat\u001b[0m\u001b[0;34m(\u001b[0m\u001b[0mthis_function_name\u001b[0m\u001b[0;34m(\u001b[0m\u001b[0;34m)\u001b[0m\u001b[0;34m,\u001b[0m \u001b[0marg\u001b[0m\u001b[0;34m)\u001b[0m\u001b[0;34m)\u001b[0m\u001b[0;34m\u001b[0m\u001b[0m\n\u001b[1;32m      5\u001b[0m \u001b[0;34m\u001b[0m\u001b[0m\n",
      "\u001b[0;31mUnboundLocalError\u001b[0m: local variable 'arg' referenced before assignment"
     ]
    }
   ],
   "source": [
    "# Выдаёт ошибку\n",
    "def f_faulty():\n",
    "    arg = arg + 1 # <-- правая часть (чтение) сработает, а assignment нет\n",
    "    print('{}: argument is now set to {}'.format(this_function_name(), arg))\n",
    "    \n",
    "f_faulty()"
   ]
  },
  {
   "cell_type": "code",
   "execution_count": 18,
   "metadata": {},
   "outputs": [
    {
     "name": "stdout",
     "output_type": "stream",
     "text": [
      "f: argument is now set to 1\n",
      "<module>: argument is now set to 1\n",
      "g: argument is now set to 2\n",
      "<module>: argument is now set to 1\n",
      "h: argument is now set to 3\n",
      "<module>: argument is now set to 3\n"
     ]
    }
   ],
   "source": [
    "def g():\n",
    "    arg = 2 # <-- создает локальную с тем же именем\n",
    "    print('{}: argument is now set to {}'.format(this_function_name(), arg)) \n",
    "\n",
    "def h(): \n",
    "    global arg \n",
    "    arg = 3\n",
    "    print('{}: argument is now set to {}'.format(this_function_name(), arg)) \n",
    "    \n",
    "f()\n",
    "print('{}: argument is now set to {}'.format(this_function_name(), arg)) \n",
    "g()\n",
    "print('{}: argument is now set to {}'.format(this_function_name(), arg)) \n",
    "h()\n",
    "print('{}: argument is now set to {}'.format(this_function_name(), arg)) "
   ]
  },
  {
   "cell_type": "code",
   "execution_count": 19,
   "metadata": {},
   "outputs": [
    {
     "name": "stdout",
     "output_type": "stream",
     "text": [
      "Don't use global variables\n",
      "Seriuosly, don't\n"
     ]
    }
   ],
   "source": [
    "# Итак, как не надо\n",
    "def get_new_value_WRONG():\n",
    "    global arg\n",
    "    arg = 'Seriuosly, don\\'t'\n",
    "    \n",
    "arg = 'Don\\'t use global variables'\n",
    "print(arg)\n",
    "get_new_value_WRONG()\n",
    "print(arg)"
   ]
  },
  {
   "cell_type": "code",
   "execution_count": 20,
   "metadata": {},
   "outputs": [],
   "source": [
    "# Если несколько аргументов?\n",
    "def get_new_values(text, number):\n",
    "    new_text = text + \"!!!\"\n",
    "    new_number = number + 1\n",
    "    return(new_text, new_number)"
   ]
  },
  {
   "cell_type": "code",
   "execution_count": 21,
   "metadata": {},
   "outputs": [
    {
     "name": "stdout",
     "output_type": "stream",
     "text": [
      "some text!!! 43\n"
     ]
    }
   ],
   "source": [
    "x, y = \"some text\", 42\n",
    "x, y = get_new_values(x, y)\n",
    "print(x, y)"
   ]
  },
  {
   "cell_type": "markdown",
   "metadata": {},
   "source": [
    "# 4. Lambda-функции. Map, filter, reduce, sorted"
   ]
  },
  {
   "cell_type": "markdown",
   "metadata": {},
   "source": [
    "### Функции одной переменной"
   ]
  },
  {
   "cell_type": "markdown",
   "metadata": {},
   "source": [
    "#### List comprehension"
   ]
  },
  {
   "cell_type": "code",
   "execution_count": 4,
   "metadata": {},
   "outputs": [
    {
     "data": {
      "text/plain": [
       "[1, 4, 9, 16]"
      ]
     },
     "execution_count": 4,
     "metadata": {},
     "output_type": "execute_result"
    }
   ],
   "source": [
    "numbers = [1, 2, 3, 4]\n",
    "\n",
    "def square(x):\n",
    "    return x ** 2\n",
    "\n",
    "[square(x) for x in numbers]"
   ]
  },
  {
   "cell_type": "code",
   "execution_count": 23,
   "metadata": {},
   "outputs": [
    {
     "data": {
      "text/plain": [
       "[1, 4, 9, 16]"
      ]
     },
     "execution_count": 23,
     "metadata": {},
     "output_type": "execute_result"
    }
   ],
   "source": [
    "lambda_square = lambda x : x ** 2\n",
    "\n",
    "[lambda_square(x) for x in numbers]"
   ]
  },
  {
   "cell_type": "code",
   "execution_count": 24,
   "metadata": {},
   "outputs": [
    {
     "data": {
      "text/plain": [
       "[1, 4, 9, 16]"
      ]
     },
     "execution_count": 24,
     "metadata": {},
     "output_type": "execute_result"
    }
   ],
   "source": [
    "# И даже\n",
    "[(lambda x: x ** 2)(x) for x in numbers]"
   ]
  },
  {
   "cell_type": "markdown",
   "metadata": {},
   "source": [
    "#### Функция map"
   ]
  },
  {
   "cell_type": "code",
   "execution_count": 25,
   "metadata": {},
   "outputs": [
    {
     "data": {
      "text/plain": [
       "[1, 4, 9, 16]"
      ]
     },
     "execution_count": 25,
     "metadata": {},
     "output_type": "execute_result"
    }
   ],
   "source": [
    "list(map(square, numbers))"
   ]
  },
  {
   "cell_type": "code",
   "execution_count": 26,
   "metadata": {},
   "outputs": [
    {
     "data": {
      "text/plain": [
       "[1, 4, 9, 16]"
      ]
     },
     "execution_count": 26,
     "metadata": {},
     "output_type": "execute_result"
    }
   ],
   "source": [
    "# Как устроена map?\n",
    "\n",
    "def my_map(function, iterable):\n",
    "    # но оптимизирована\n",
    "    for item in iterable:\n",
    "        yield function(item)\n",
    "        \n",
    "list(my_map(square, numbers))"
   ]
  },
  {
   "cell_type": "code",
   "execution_count": 27,
   "metadata": {},
   "outputs": [
    {
     "data": {
      "text/plain": [
       "[1, 4, 9, 16]"
      ]
     },
     "execution_count": 27,
     "metadata": {},
     "output_type": "execute_result"
    }
   ],
   "source": [
    "# А что с лямбдами\n",
    "\n",
    "list(map(lambda x: x ** 2, numbers))"
   ]
  },
  {
   "cell_type": "code",
   "execution_count": 1,
   "metadata": {},
   "outputs": [
    {
     "data": {
      "text/plain": [
       "'12346'"
      ]
     },
     "execution_count": 1,
     "metadata": {},
     "output_type": "execute_result"
    }
   ],
   "source": [
    "digits = [1, 2, 3, 4, 6]\n",
    "digits_str = list(map(str, digits))\n",
    "\"\".join(digits_str)"
   ]
  },
  {
   "cell_type": "code",
   "execution_count": 3,
   "metadata": {},
   "outputs": [
    {
     "data": {
      "text/plain": [
       "array([ 4,  4,  9, 16], dtype=int32)"
      ]
     },
     "execution_count": 3,
     "metadata": {},
     "output_type": "execute_result"
    }
   ],
   "source": [
    "# Аналог в numpy\n",
    "# elementwise operation\n",
    "\n",
    "import numpy as np\n",
    "a = np.array(numbers)\n",
    "a ** 2"
   ]
  },
  {
   "cell_type": "code",
   "execution_count": 16,
   "metadata": {},
   "outputs": [
    {
     "name": "stdout",
     "output_type": "stream",
     "text": [
      "[[[[ 1  2]\n",
      "   [ 3  4]]\n",
      "\n",
      "  [[ 5  6]\n",
      "   [ 7  8]]]\n",
      "\n",
      "\n",
      " [[[ 9 10]\n",
      "   [11 12]]\n",
      "\n",
      "  [[13 14]\n",
      "   [15 16]]]]\n"
     ]
    }
   ],
   "source": [
    "# Если размерность больше и любая функция\n",
    "matrix = np.arange(1, 17).reshape(2, 2, 2, 2)\n",
    "print(matrix)"
   ]
  },
  {
   "cell_type": "code",
   "execution_count": 17,
   "metadata": {},
   "outputs": [
    {
     "data": {
      "text/plain": [
       "array([[[[  1,   4],\n",
       "         [  9,  16]],\n",
       "\n",
       "        [[ 25,  36],\n",
       "         [ 49,  64]]],\n",
       "\n",
       "\n",
       "       [[[ 81, 100],\n",
       "         [121, 144]],\n",
       "\n",
       "        [[169, 196],\n",
       "         [225, 256]]]])"
      ]
     },
     "execution_count": 17,
     "metadata": {},
     "output_type": "execute_result"
    }
   ],
   "source": [
    "np.apply_along_axis(lambda x: x ** 2, 1, matrix)"
   ]
  },
  {
   "cell_type": "code",
   "execution_count": 20,
   "metadata": {},
   "outputs": [
    {
     "data": {
      "text/plain": [
       "array([[[ 1,  2],\n",
       "        [ 5,  6]],\n",
       "\n",
       "       [[ 9, 10],\n",
       "        [13, 14]]])"
      ]
     },
     "execution_count": 20,
     "metadata": {},
     "output_type": "execute_result"
    }
   ],
   "source": [
    "# На этом примере видно, к чему применилась лямбда\n",
    "np.apply_along_axis(lambda x: x[0], 2, matrix)"
   ]
  },
  {
   "cell_type": "markdown",
   "metadata": {},
   "source": [
    "#### Функция filter"
   ]
  },
  {
   "cell_type": "code",
   "execution_count": 30,
   "metadata": {},
   "outputs": [
    {
     "data": {
      "text/plain": [
       "[2, 4]"
      ]
     },
     "execution_count": 30,
     "metadata": {},
     "output_type": "execute_result"
    }
   ],
   "source": [
    "[x for x in numbers if x % 2 == 0]"
   ]
  },
  {
   "cell_type": "code",
   "execution_count": 21,
   "metadata": {},
   "outputs": [
    {
     "data": {
      "text/plain": [
       "[1, 1, 3, 3]"
      ]
     },
     "execution_count": 21,
     "metadata": {},
     "output_type": "execute_result"
    }
   ],
   "source": [
    "[x if x % 2 else x - 1 for x in numbers]"
   ]
  },
  {
   "cell_type": "code",
   "execution_count": 33,
   "metadata": {},
   "outputs": [
    {
     "data": {
      "text/plain": [
       "[2, 4]"
      ]
     },
     "execution_count": 33,
     "metadata": {},
     "output_type": "execute_result"
    }
   ],
   "source": [
    "list(filter(lambda x: x % 2 == 0, numbers))"
   ]
  },
  {
   "cell_type": "code",
   "execution_count": 25,
   "metadata": {},
   "outputs": [
    {
     "data": {
      "text/plain": [
       "[1, 2, 3, 4]"
      ]
     },
     "execution_count": 25,
     "metadata": {},
     "output_type": "execute_result"
    }
   ],
   "source": [
    "list(filter(lambda x: x, numbers))"
   ]
  },
  {
   "cell_type": "markdown",
   "metadata": {},
   "source": [
    "#### Ключ в sorted"
   ]
  },
  {
   "cell_type": "code",
   "execution_count": 34,
   "metadata": {},
   "outputs": [
    {
     "ename": "TypeError",
     "evalue": "'<' not supported between instances of 'complex' and 'complex'",
     "output_type": "error",
     "traceback": [
      "\u001b[0;31m---------------------------------------------------------------------------\u001b[0m",
      "\u001b[0;31mTypeError\u001b[0m                                 Traceback (most recent call last)",
      "\u001b[0;32m<ipython-input-34-1d95295a5a2a>\u001b[0m in \u001b[0;36m<module>\u001b[0;34m()\u001b[0m\n\u001b[1;32m      7\u001b[0m     ]\n\u001b[1;32m      8\u001b[0m \u001b[0;34m\u001b[0m\u001b[0m\n\u001b[0;32m----> 9\u001b[0;31m \u001b[0msorted\u001b[0m\u001b[0;34m(\u001b[0m\u001b[0mc_numbers\u001b[0m\u001b[0;34m)\u001b[0m\u001b[0;34m\u001b[0m\u001b[0m\n\u001b[0m",
      "\u001b[0;31mTypeError\u001b[0m: '<' not supported between instances of 'complex' and 'complex'"
     ]
    }
   ],
   "source": [
    "c_numbers = [\n",
    "    complex(1, 1),\n",
    "    complex(2, 3),\n",
    "    complex(3, 2),\n",
    "    ]\n",
    "\n",
    "sorted(c_numbers)"
   ]
  },
  {
   "cell_type": "code",
   "execution_count": 39,
   "metadata": {},
   "outputs": [
    {
     "data": {
      "text/plain": [
       "[(1+1j), (2+3j), (3+2j)]"
      ]
     },
     "execution_count": 39,
     "metadata": {},
     "output_type": "execute_result"
    }
   ],
   "source": [
    "sorted(c_numbers, key=lambda x: x.real)"
   ]
  },
  {
   "cell_type": "code",
   "execution_count": 40,
   "metadata": {},
   "outputs": [
    {
     "data": {
      "text/plain": [
       "[(1+1j), (3+2j), (2+3j)]"
      ]
     },
     "execution_count": 40,
     "metadata": {},
     "output_type": "execute_result"
    }
   ],
   "source": [
    "sorted(c_numbers, key=lambda x: x.imag)"
   ]
  },
  {
   "cell_type": "markdown",
   "metadata": {},
   "source": [
    "### Функции двух переменных"
   ]
  },
  {
   "cell_type": "code",
   "execution_count": 0,
   "metadata": {},
   "outputs": [],
   "source": [
    "lambda x, y: x + y ** 2"
   ]
  },
  {
   "cell_type": "markdown",
   "metadata": {},
   "source": [
    "#### Функция reduce"
   ]
  },
  {
   "cell_type": "code",
   "execution_count": 7,
   "metadata": {},
   "outputs": [
    {
     "data": {
      "text/plain": [
       "32"
      ]
     },
     "execution_count": 7,
     "metadata": {},
     "output_type": "execute_result"
    }
   ],
   "source": [
    "from functools import reduce \n",
    "\n",
    "numbers = [3, 2, 3, 4]\n",
    "\n",
    "# Как сделать сумму квадратов?\n",
    "\n",
    "reduce(lambda x, y: x + y ** 2, numbers)"
   ]
  },
  {
   "cell_type": "code",
   "execution_count": 8,
   "metadata": {},
   "outputs": [
    {
     "data": {
      "text/plain": [
       "38"
      ]
     },
     "execution_count": 8,
     "metadata": {},
     "output_type": "execute_result"
    }
   ],
   "source": [
    "# Аналог в numpy\n",
    "\n",
    "a = np.array(numbers)\n",
    "np.add.reduce(a ** 2)"
   ]
  },
  {
   "cell_type": "markdown",
   "metadata": {},
   "source": [
    "Вообще это работает только с `numpy` объектами `ufunc` (universal functions), их много, список\n",
    "[здесь](https://docs.scipy.org/doc/numpy/reference/ufuncs.html).\n",
    "\n",
    "Но мы можем создать такой объект из любой питоновской функции."
   ]
  },
  {
   "cell_type": "code",
   "execution_count": 57,
   "metadata": {},
   "outputs": [
    {
     "data": {
      "text/plain": [
       "30"
      ]
     },
     "execution_count": 57,
     "metadata": {},
     "output_type": "execute_result"
    }
   ],
   "source": [
    "add_squares = np.frompyfunc(lambda x, y: x + y ** 2, 2, 1)\n",
    "add_squares.reduce(a)"
   ]
  },
  {
   "cell_type": "markdown",
   "metadata": {},
   "source": [
    "### Лямбды и фабрики функций"
   ]
  },
  {
   "cell_type": "code",
   "execution_count": 58,
   "metadata": {},
   "outputs": [
    {
     "data": {
      "text/plain": [
       "20"
      ]
     },
     "execution_count": 58,
     "metadata": {},
     "output_type": "execute_result"
    }
   ],
   "source": [
    "def multiply_by_n_factory(n):\n",
    "    return lambda x: x * n\n",
    "\n",
    "double = multiply_by_n_factory(2)\n",
    "triple = multiply_by_n_factory(3)\n",
    "quadriple = multiply_by_n_factory(4)\n",
    "\n",
    "double(10)"
   ]
  },
  {
   "cell_type": "code",
   "execution_count": 59,
   "metadata": {},
   "outputs": [
    {
     "data": {
      "text/plain": [
       "30"
      ]
     },
     "execution_count": 59,
     "metadata": {},
     "output_type": "execute_result"
    }
   ],
   "source": [
    "triple(10)"
   ]
  },
  {
   "cell_type": "code",
   "execution_count": 60,
   "metadata": {},
   "outputs": [
    {
     "data": {
      "text/plain": [
       "40"
      ]
     },
     "execution_count": 60,
     "metadata": {},
     "output_type": "execute_result"
    }
   ],
   "source": [
    "quadriple(10)"
   ]
  },
  {
   "cell_type": "markdown",
   "metadata": {},
   "source": [
    "# 5. Работа со словарями"
   ]
  },
  {
   "cell_type": "markdown",
   "metadata": {},
   "source": [
    "### Инвентарь\n",
    " \n",
    "Произвести операции над словарем, который описывает имущество персонажа игры."
   ]
  },
  {
   "cell_type": "code",
   "execution_count": 31,
   "metadata": {},
   "outputs": [],
   "source": [
    "inventory = {\n",
    "    'gold' : 500,\n",
    "    'pouch' : ['flint', 'twine', 'gemstone'],\n",
    "    'backpack' : ['xylophone','dagger', 'bedroll','bread loaf']\n",
    "}"
   ]
  },
  {
   "cell_type": "markdown",
   "metadata": {},
   "source": [
    "Добавить в словарь ключ `'pocket'`."
   ]
  },
  {
   "cell_type": "code",
   "execution_count": 10,
   "metadata": {},
   "outputs": [],
   "source": [
    "inventory['pocket'] = []  "
   ]
  },
  {
   "cell_type": "markdown",
   "metadata": {},
   "source": [
    "Положить в `'pocket'` список вещей, то есть строк: `'seashell'`, `'strange berry'` и `'lint'`."
   ]
  },
  {
   "cell_type": "code",
   "execution_count": 11,
   "metadata": {},
   "outputs": [],
   "source": [
    "inventory['pocket'] = ['seashell', 'strange berry', 'lint']"
   ]
  },
  {
   "cell_type": "markdown",
   "metadata": {},
   "source": [
    "Отсортировать элементы в рюкзаке `'backpack'`.\n"
   ]
  },
  {
   "cell_type": "code",
   "execution_count": 12,
   "metadata": {},
   "outputs": [
    {
     "data": {
      "text/plain": [
       "['bedroll', 'bread loaf', 'dagger', 'xylophone']"
      ]
     },
     "execution_count": 12,
     "metadata": {},
     "output_type": "execute_result"
    }
   ],
   "source": [
    "sorted(inventory['backpack'])"
   ]
  },
  {
   "cell_type": "markdown",
   "metadata": {},
   "source": [
    "Удалить ножик `'dagger'`.\n"
   ]
  },
  {
   "cell_type": "code",
   "execution_count": 13,
   "metadata": {},
   "outputs": [
    {
     "name": "stdout",
     "output_type": "stream",
     "text": [
      "['xylophone', 'bedroll', 'bread loaf']\n"
     ]
    }
   ],
   "source": [
    "inventory['backpack'].remove('dagger')\n",
    "print(inventory['backpack'])"
   ]
  },
  {
   "cell_type": "markdown",
   "metadata": {},
   "source": [
    "Добавить 50 золота в кошелек `'gold'`."
   ]
  },
  {
   "cell_type": "code",
   "execution_count": 55,
   "metadata": {},
   "outputs": [
    {
     "name": "stdout",
     "output_type": "stream",
     "text": [
      "550\n"
     ]
    }
   ],
   "source": [
    "inventory['gold'] += 50\n",
    "print(inventory['gold'])"
   ]
  },
  {
   "cell_type": "markdown",
   "metadata": {},
   "source": [
    "### Фруктовая лавка\n",
    "\n",
    "Создать словарь `prices`, в котором будут лежать такие элементы:\n",
    "\n",
    "`\"banana\": 4,\n",
    "\"apple\": 2,\n",
    "\"orange\": 1.5,\n",
    "\"pear\": 3`\n",
    "\n",
    "А также словарь `stock`, в котором будет лежать количество фруктов каждого типа:\n",
    "\n",
    "`\"banana\": 6,\n",
    "\"apple\": 0,\n",
    "\"orange\": 32,\n",
    "\"pear\": 15`"
   ]
  },
  {
   "cell_type": "code",
   "execution_count": 16,
   "metadata": {},
   "outputs": [
    {
     "name": "stdout",
     "output_type": "stream",
     "text": [
      "{'banana': 4, 'apple': 2, 'orange': 1.5, 'pear': 3}\n"
     ]
    }
   ],
   "source": [
    "fruits = ['banana', 'apple', 'orange', 'pear']\n",
    "costs = [4, 2, 1.5, 3]\n",
    "amounts = [6, 0, 32, 15]\n",
    "\n",
    "prices = dict(zip(fruits, costs))\n",
    "stock = dict(zip(fruits, amounts))\n",
    "\n",
    "print(prices)"
   ]
  },
  {
   "cell_type": "markdown",
   "metadata": {},
   "source": [
    "Пробежаться по всем фруктам и для каждого вывести информацию в виде:\n",
    "\n",
    "`apple\n",
    "price: 2\n",
    "stock: 0`"
   ]
  },
  {
   "cell_type": "code",
   "execution_count": 26,
   "metadata": {},
   "outputs": [
    {
     "name": "stdout",
     "output_type": "stream",
     "text": [
      "banana \n",
      " price: 4 \n",
      " stock: 6\n",
      "apple \n",
      " price: 2 \n",
      " stock: 0\n",
      "orange \n",
      " price: 1.5 \n",
      " stock: 32\n",
      "pear \n",
      " price: 3 \n",
      " stock: 15\n"
     ]
    }
   ],
   "source": [
    "for fruit in fruits:\n",
    "    print(fruit, '\\n price:', prices[fruit], '\\n stock:', stock[fruit])"
   ]
  },
  {
   "cell_type": "markdown",
   "metadata": {},
   "source": [
    "Посчитать, сколько можно получить всего выручки, если продать все имеющиеся фрукты по указанной цене: то есть сложить суммы, полученные как произведение количества фруктов на их цену."
   ]
  },
  {
   "cell_type": "code",
   "execution_count": 28,
   "metadata": {},
   "outputs": [
    {
     "name": "stdout",
     "output_type": "stream",
     "text": [
      "117.0\n"
     ]
    }
   ],
   "source": [
    "profit = 0\n",
    "for fruit in fruits:\n",
    "    profit += prices[fruit]*stock[fruit]\n",
    "print(profit)"
   ]
  },
  {
   "cell_type": "markdown",
   "metadata": {},
   "source": [
    "# 6. Считывание и преобразование данных"
   ]
  },
  {
   "cell_type": "markdown",
   "metadata": {},
   "source": [
    "#### Считать пару-тройку чисел, разделенны пробелами"
   ]
  },
  {
   "cell_type": "code",
   "execution_count": null,
   "metadata": {},
   "outputs": [],
   "source": [
    "x, y = map(int, input().split())"
   ]
  },
  {
   "cell_type": "markdown",
   "metadata": {},
   "source": [
    "#### Ввод-вывод одномерного массива"
   ]
  },
  {
   "cell_type": "code",
   "execution_count": null,
   "metadata": {},
   "outputs": [],
   "source": [
    "# первый способ\n",
    "a = input().split()  # считали строку и разбили ее по пробелам\n",
    "                     # получился уже массив, но питон пока не понимает, что в массиве числа\n",
    "for i in range(len(a)):\n",
    "    a[i] = int(a[i])  # прошли по всем элементам массива и превратили их в числа\n",
    "    \n",
    "# второй способ\n",
    "a = list(map(int, input().split()))"
   ]
  },
  {
   "cell_type": "markdown",
   "metadata": {},
   "source": [
    "Еще бывает, что числа для массива задаются по одному в строке. Тогда вам проще всего заранее знать, сколько будет вводиться чисел. Обычно как раз так данные и даются: сначала количество элементов, потом сами элементы. Тогда все вводится легко:"
   ]
  },
  {
   "cell_type": "code",
   "execution_count": null,
   "metadata": {},
   "outputs": [],
   "source": [
    "n = int(input())\n",
    "a = []  # пустой массив, т.е. массив длины 0\n",
    "for i in range(n):\n",
    "    a.append(int(input()))  # считали число и сразу добавили в конец массива"
   ]
  },
  {
   "cell_type": "markdown",
   "metadata": {},
   "source": [
    "Как выводить массив?"
   ]
  },
  {
   "cell_type": "code",
   "execution_count": null,
   "metadata": {},
   "outputs": [],
   "source": [
    "# Если надо по одному числу в строку, то просто:\n",
    "for i in range(len(a)):\n",
    "    print(a[i])\n",
    "    \n",
    "# Если же надо все числа в одну строку, то есть два способа. \n",
    "# Во-первых, можно команде print передать специальный параметр end=\" \", \n",
    "# который обозначает \"заканчивать вывод пробелом (а не переводом строки)\":\n",
    "\n",
    "for i in range(len(a)):\n",
    "    print(a[i], end=\" \")\n",
    "\n",
    "# Есть другой, более простой способ:\n",
    "\n",
    "print(*a)\n",
    "\n",
    "# Эта магия обозначает вот что: возьми все элементы массива a и передай их отдельными аргументами в одну команду print. \n",
    "# Т.е. получается print(a[0], a[1], a[2], ...)."
   ]
  },
  {
   "cell_type": "markdown",
   "metadata": {},
   "source": [
    "#### Ввод-вывод двумерного массива"
   ]
  },
  {
   "cell_type": "markdown",
   "metadata": {},
   "source": [
    "Обычно двумерный массив вам задается как n строк по m чисел в каждой, причем числа n и m вам задаются заранее. Такой двумерный массив вводится эдакой комбинацией двух способов ввода одномерного массива."
   ]
  },
  {
   "cell_type": "code",
   "execution_count": null,
   "metadata": {},
   "outputs": [],
   "source": [
    "n, m = map(int, input().split())  # считали n и m из одной строки\n",
    "# m дальше не будет нужно\n",
    "a = []\n",
    "for i in range(n):\n",
    "    a.append(list(map(int, input().split())))\n",
    "\n",
    "# либо без map\n",
    "n = int(input()) \n",
    "a = []\n",
    "for i in range(n):\n",
    "    a.append([int(j) for j in input().split()])\n",
    "    \n",
    "# либо работая с элементами\n",
    "n = int(input()) \n",
    "a = []\n",
    "for i in range(n):\n",
    "    row = input().split()\n",
    "    for i in range(len(row)):\n",
    "        row[i] = int(row[i])\n",
    "    a.append(row)\n",
    "    \n",
    "# либо с помощью генератора\n",
    "n = int(input()) \n",
    "a = [[int(j) for j in input().split()] for i in range(n)]"
   ]
  },
  {
   "cell_type": "markdown",
   "metadata": {},
   "source": [
    "Вывод двумерного массива, если вам его надо вывести такой же табличкой, тоже делается комбинацией способов вывода одномерного массива"
   ]
  },
  {
   "cell_type": "code",
   "execution_count": null,
   "metadata": {},
   "outputs": [],
   "source": [
    "for i in range(len(a)):\n",
    "    print(*a[i])\n",
    "    \n",
    "# или так\n",
    "\n",
    "for i in range(len(a)):\n",
    "    for j in range(len(a[i])):\n",
    "        print(a[i][j], end=\" \")\n",
    "    print()  # сделать перевод строки"
   ]
  },
  {
   "cell_type": "code",
   "execution_count": null,
   "metadata": {},
   "outputs": [],
   "source": []
  }
 ],
 "metadata": {
  "kernelspec": {
   "display_name": "Python 3",
   "language": "python",
   "name": "python3"
  },
  "language_info": {
   "codemirror_mode": {
    "name": "ipython",
    "version": 3
   },
   "file_extension": ".py",
   "mimetype": "text/x-python",
   "name": "python",
   "nbconvert_exporter": "python",
   "pygments_lexer": "ipython3",
   "version": "3.8.3"
  }
 },
 "nbformat": 4,
 "nbformat_minor": 2
}
